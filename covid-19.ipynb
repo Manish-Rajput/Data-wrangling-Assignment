{
 "cells": [
  {
   "cell_type": "markdown",
   "id": "004f3fc3",
   "metadata": {},
   "source": [
    "### Importing the packages"
   ]
  },
  {
   "cell_type": "code",
   "execution_count": 1,
   "id": "0a734786",
   "metadata": {},
   "outputs": [],
   "source": [
    "import pandas as pd\n",
    "\n",
    "import matplotlib\n",
    "import matplotlib.pyplot as plt\n",
    "import seaborn as sns\n",
    "%matplotlib inline"
   ]
  },
  {
   "cell_type": "markdown",
   "id": "d2550d33",
   "metadata": {},
   "source": [
    "### Reading the data from url"
   ]
  },
  {
   "cell_type": "code",
   "execution_count": 2,
   "id": "9a56fdd4",
   "metadata": {},
   "outputs": [],
   "source": [
    "url = 'https://raw.githubusercontent.com/SR1608/Datasets/main/covid-data.csv'"
   ]
  },
  {
   "cell_type": "code",
   "execution_count": 3,
   "id": "5bcedec2",
   "metadata": {},
   "outputs": [],
   "source": [
    "raw_data = pd.read_csv(url)"
   ]
  },
  {
   "cell_type": "code",
   "execution_count": 4,
   "id": "1b08461e",
   "metadata": {},
   "outputs": [
    {
     "data": {
      "text/html": [
       "<div>\n",
       "<style scoped>\n",
       "    .dataframe tbody tr th:only-of-type {\n",
       "        vertical-align: middle;\n",
       "    }\n",
       "\n",
       "    .dataframe tbody tr th {\n",
       "        vertical-align: top;\n",
       "    }\n",
       "\n",
       "    .dataframe thead th {\n",
       "        text-align: right;\n",
       "    }\n",
       "</style>\n",
       "<table border=\"1\" class=\"dataframe\">\n",
       "  <thead>\n",
       "    <tr style=\"text-align: right;\">\n",
       "      <th></th>\n",
       "      <th>iso_code</th>\n",
       "      <th>continent</th>\n",
       "      <th>location</th>\n",
       "      <th>date</th>\n",
       "      <th>total_cases</th>\n",
       "      <th>new_cases</th>\n",
       "      <th>new_cases_smoothed</th>\n",
       "      <th>total_deaths</th>\n",
       "      <th>new_deaths</th>\n",
       "      <th>new_deaths_smoothed</th>\n",
       "      <th>...</th>\n",
       "      <th>gdp_per_capita</th>\n",
       "      <th>extreme_poverty</th>\n",
       "      <th>cardiovasc_death_rate</th>\n",
       "      <th>diabetes_prevalence</th>\n",
       "      <th>female_smokers</th>\n",
       "      <th>male_smokers</th>\n",
       "      <th>handwashing_facilities</th>\n",
       "      <th>hospital_beds_per_thousand</th>\n",
       "      <th>life_expectancy</th>\n",
       "      <th>human_development_index</th>\n",
       "    </tr>\n",
       "  </thead>\n",
       "  <tbody>\n",
       "    <tr>\n",
       "      <th>0</th>\n",
       "      <td>AFG</td>\n",
       "      <td>Asia</td>\n",
       "      <td>Afghanistan</td>\n",
       "      <td>31/12/19</td>\n",
       "      <td>NaN</td>\n",
       "      <td>0.0</td>\n",
       "      <td>NaN</td>\n",
       "      <td>NaN</td>\n",
       "      <td>0.0</td>\n",
       "      <td>NaN</td>\n",
       "      <td>...</td>\n",
       "      <td>1803.987</td>\n",
       "      <td>NaN</td>\n",
       "      <td>597.029</td>\n",
       "      <td>9.59</td>\n",
       "      <td>NaN</td>\n",
       "      <td>NaN</td>\n",
       "      <td>37.746</td>\n",
       "      <td>0.5</td>\n",
       "      <td>64.83</td>\n",
       "      <td>0.498</td>\n",
       "    </tr>\n",
       "    <tr>\n",
       "      <th>1</th>\n",
       "      <td>AFG</td>\n",
       "      <td>Asia</td>\n",
       "      <td>Afghanistan</td>\n",
       "      <td>01/01/20</td>\n",
       "      <td>NaN</td>\n",
       "      <td>0.0</td>\n",
       "      <td>NaN</td>\n",
       "      <td>NaN</td>\n",
       "      <td>0.0</td>\n",
       "      <td>NaN</td>\n",
       "      <td>...</td>\n",
       "      <td>1803.987</td>\n",
       "      <td>NaN</td>\n",
       "      <td>597.029</td>\n",
       "      <td>9.59</td>\n",
       "      <td>NaN</td>\n",
       "      <td>NaN</td>\n",
       "      <td>37.746</td>\n",
       "      <td>0.5</td>\n",
       "      <td>64.83</td>\n",
       "      <td>0.498</td>\n",
       "    </tr>\n",
       "    <tr>\n",
       "      <th>2</th>\n",
       "      <td>AFG</td>\n",
       "      <td>Asia</td>\n",
       "      <td>Afghanistan</td>\n",
       "      <td>02/01/20</td>\n",
       "      <td>NaN</td>\n",
       "      <td>0.0</td>\n",
       "      <td>NaN</td>\n",
       "      <td>NaN</td>\n",
       "      <td>0.0</td>\n",
       "      <td>NaN</td>\n",
       "      <td>...</td>\n",
       "      <td>1803.987</td>\n",
       "      <td>NaN</td>\n",
       "      <td>597.029</td>\n",
       "      <td>9.59</td>\n",
       "      <td>NaN</td>\n",
       "      <td>NaN</td>\n",
       "      <td>37.746</td>\n",
       "      <td>0.5</td>\n",
       "      <td>64.83</td>\n",
       "      <td>0.498</td>\n",
       "    </tr>\n",
       "    <tr>\n",
       "      <th>3</th>\n",
       "      <td>AFG</td>\n",
       "      <td>Asia</td>\n",
       "      <td>Afghanistan</td>\n",
       "      <td>03/01/20</td>\n",
       "      <td>NaN</td>\n",
       "      <td>0.0</td>\n",
       "      <td>NaN</td>\n",
       "      <td>NaN</td>\n",
       "      <td>0.0</td>\n",
       "      <td>NaN</td>\n",
       "      <td>...</td>\n",
       "      <td>1803.987</td>\n",
       "      <td>NaN</td>\n",
       "      <td>597.029</td>\n",
       "      <td>9.59</td>\n",
       "      <td>NaN</td>\n",
       "      <td>NaN</td>\n",
       "      <td>37.746</td>\n",
       "      <td>0.5</td>\n",
       "      <td>64.83</td>\n",
       "      <td>0.498</td>\n",
       "    </tr>\n",
       "    <tr>\n",
       "      <th>4</th>\n",
       "      <td>AFG</td>\n",
       "      <td>Asia</td>\n",
       "      <td>Afghanistan</td>\n",
       "      <td>04/01/20</td>\n",
       "      <td>NaN</td>\n",
       "      <td>0.0</td>\n",
       "      <td>NaN</td>\n",
       "      <td>NaN</td>\n",
       "      <td>0.0</td>\n",
       "      <td>NaN</td>\n",
       "      <td>...</td>\n",
       "      <td>1803.987</td>\n",
       "      <td>NaN</td>\n",
       "      <td>597.029</td>\n",
       "      <td>9.59</td>\n",
       "      <td>NaN</td>\n",
       "      <td>NaN</td>\n",
       "      <td>37.746</td>\n",
       "      <td>0.5</td>\n",
       "      <td>64.83</td>\n",
       "      <td>0.498</td>\n",
       "    </tr>\n",
       "  </tbody>\n",
       "</table>\n",
       "<p>5 rows × 49 columns</p>\n",
       "</div>"
      ],
      "text/plain": [
       "  iso_code continent     location      date  total_cases  new_cases  \\\n",
       "0      AFG      Asia  Afghanistan  31/12/19          NaN        0.0   \n",
       "1      AFG      Asia  Afghanistan  01/01/20          NaN        0.0   \n",
       "2      AFG      Asia  Afghanistan  02/01/20          NaN        0.0   \n",
       "3      AFG      Asia  Afghanistan  03/01/20          NaN        0.0   \n",
       "4      AFG      Asia  Afghanistan  04/01/20          NaN        0.0   \n",
       "\n",
       "   new_cases_smoothed  total_deaths  new_deaths  new_deaths_smoothed  ...  \\\n",
       "0                 NaN           NaN         0.0                  NaN  ...   \n",
       "1                 NaN           NaN         0.0                  NaN  ...   \n",
       "2                 NaN           NaN         0.0                  NaN  ...   \n",
       "3                 NaN           NaN         0.0                  NaN  ...   \n",
       "4                 NaN           NaN         0.0                  NaN  ...   \n",
       "\n",
       "   gdp_per_capita  extreme_poverty  cardiovasc_death_rate  \\\n",
       "0        1803.987              NaN                597.029   \n",
       "1        1803.987              NaN                597.029   \n",
       "2        1803.987              NaN                597.029   \n",
       "3        1803.987              NaN                597.029   \n",
       "4        1803.987              NaN                597.029   \n",
       "\n",
       "   diabetes_prevalence  female_smokers  male_smokers  handwashing_facilities  \\\n",
       "0                 9.59             NaN           NaN                  37.746   \n",
       "1                 9.59             NaN           NaN                  37.746   \n",
       "2                 9.59             NaN           NaN                  37.746   \n",
       "3                 9.59             NaN           NaN                  37.746   \n",
       "4                 9.59             NaN           NaN                  37.746   \n",
       "\n",
       "   hospital_beds_per_thousand  life_expectancy  human_development_index  \n",
       "0                         0.5            64.83                    0.498  \n",
       "1                         0.5            64.83                    0.498  \n",
       "2                         0.5            64.83                    0.498  \n",
       "3                         0.5            64.83                    0.498  \n",
       "4                         0.5            64.83                    0.498  \n",
       "\n",
       "[5 rows x 49 columns]"
      ]
     },
     "execution_count": 4,
     "metadata": {},
     "output_type": "execute_result"
    }
   ],
   "source": [
    "raw_data.head(5)"
   ]
  },
  {
   "cell_type": "markdown",
   "id": "15075ca9",
   "metadata": {},
   "source": [
    "### Making copy of raw data"
   ]
  },
  {
   "cell_type": "code",
   "execution_count": 5,
   "id": "1a7b4e89",
   "metadata": {},
   "outputs": [],
   "source": [
    "df = raw_data.copy()"
   ]
  },
  {
   "cell_type": "markdown",
   "id": "adeff777",
   "metadata": {},
   "source": [
    "## High level data understanding"
   ]
  },
  {
   "cell_type": "code",
   "execution_count": 6,
   "id": "336e0755",
   "metadata": {},
   "outputs": [
    {
     "data": {
      "text/html": [
       "<div>\n",
       "<style scoped>\n",
       "    .dataframe tbody tr th:only-of-type {\n",
       "        vertical-align: middle;\n",
       "    }\n",
       "\n",
       "    .dataframe tbody tr th {\n",
       "        vertical-align: top;\n",
       "    }\n",
       "\n",
       "    .dataframe thead th {\n",
       "        text-align: right;\n",
       "    }\n",
       "</style>\n",
       "<table border=\"1\" class=\"dataframe\">\n",
       "  <thead>\n",
       "    <tr style=\"text-align: right;\">\n",
       "      <th></th>\n",
       "      <th>iso_code</th>\n",
       "      <th>continent</th>\n",
       "      <th>location</th>\n",
       "      <th>date</th>\n",
       "      <th>total_cases</th>\n",
       "      <th>new_cases</th>\n",
       "      <th>new_cases_smoothed</th>\n",
       "      <th>total_deaths</th>\n",
       "      <th>new_deaths</th>\n",
       "      <th>new_deaths_smoothed</th>\n",
       "      <th>...</th>\n",
       "      <th>gdp_per_capita</th>\n",
       "      <th>extreme_poverty</th>\n",
       "      <th>cardiovasc_death_rate</th>\n",
       "      <th>diabetes_prevalence</th>\n",
       "      <th>female_smokers</th>\n",
       "      <th>male_smokers</th>\n",
       "      <th>handwashing_facilities</th>\n",
       "      <th>hospital_beds_per_thousand</th>\n",
       "      <th>life_expectancy</th>\n",
       "      <th>human_development_index</th>\n",
       "    </tr>\n",
       "  </thead>\n",
       "  <tbody>\n",
       "    <tr>\n",
       "      <th>0</th>\n",
       "      <td>AFG</td>\n",
       "      <td>Asia</td>\n",
       "      <td>Afghanistan</td>\n",
       "      <td>31/12/19</td>\n",
       "      <td>NaN</td>\n",
       "      <td>0.0</td>\n",
       "      <td>NaN</td>\n",
       "      <td>NaN</td>\n",
       "      <td>0.0</td>\n",
       "      <td>NaN</td>\n",
       "      <td>...</td>\n",
       "      <td>1803.987</td>\n",
       "      <td>NaN</td>\n",
       "      <td>597.029</td>\n",
       "      <td>9.59</td>\n",
       "      <td>NaN</td>\n",
       "      <td>NaN</td>\n",
       "      <td>37.746</td>\n",
       "      <td>0.5</td>\n",
       "      <td>64.83</td>\n",
       "      <td>0.498</td>\n",
       "    </tr>\n",
       "    <tr>\n",
       "      <th>1</th>\n",
       "      <td>AFG</td>\n",
       "      <td>Asia</td>\n",
       "      <td>Afghanistan</td>\n",
       "      <td>01/01/20</td>\n",
       "      <td>NaN</td>\n",
       "      <td>0.0</td>\n",
       "      <td>NaN</td>\n",
       "      <td>NaN</td>\n",
       "      <td>0.0</td>\n",
       "      <td>NaN</td>\n",
       "      <td>...</td>\n",
       "      <td>1803.987</td>\n",
       "      <td>NaN</td>\n",
       "      <td>597.029</td>\n",
       "      <td>9.59</td>\n",
       "      <td>NaN</td>\n",
       "      <td>NaN</td>\n",
       "      <td>37.746</td>\n",
       "      <td>0.5</td>\n",
       "      <td>64.83</td>\n",
       "      <td>0.498</td>\n",
       "    </tr>\n",
       "    <tr>\n",
       "      <th>2</th>\n",
       "      <td>AFG</td>\n",
       "      <td>Asia</td>\n",
       "      <td>Afghanistan</td>\n",
       "      <td>02/01/20</td>\n",
       "      <td>NaN</td>\n",
       "      <td>0.0</td>\n",
       "      <td>NaN</td>\n",
       "      <td>NaN</td>\n",
       "      <td>0.0</td>\n",
       "      <td>NaN</td>\n",
       "      <td>...</td>\n",
       "      <td>1803.987</td>\n",
       "      <td>NaN</td>\n",
       "      <td>597.029</td>\n",
       "      <td>9.59</td>\n",
       "      <td>NaN</td>\n",
       "      <td>NaN</td>\n",
       "      <td>37.746</td>\n",
       "      <td>0.5</td>\n",
       "      <td>64.83</td>\n",
       "      <td>0.498</td>\n",
       "    </tr>\n",
       "    <tr>\n",
       "      <th>3</th>\n",
       "      <td>AFG</td>\n",
       "      <td>Asia</td>\n",
       "      <td>Afghanistan</td>\n",
       "      <td>03/01/20</td>\n",
       "      <td>NaN</td>\n",
       "      <td>0.0</td>\n",
       "      <td>NaN</td>\n",
       "      <td>NaN</td>\n",
       "      <td>0.0</td>\n",
       "      <td>NaN</td>\n",
       "      <td>...</td>\n",
       "      <td>1803.987</td>\n",
       "      <td>NaN</td>\n",
       "      <td>597.029</td>\n",
       "      <td>9.59</td>\n",
       "      <td>NaN</td>\n",
       "      <td>NaN</td>\n",
       "      <td>37.746</td>\n",
       "      <td>0.5</td>\n",
       "      <td>64.83</td>\n",
       "      <td>0.498</td>\n",
       "    </tr>\n",
       "    <tr>\n",
       "      <th>4</th>\n",
       "      <td>AFG</td>\n",
       "      <td>Asia</td>\n",
       "      <td>Afghanistan</td>\n",
       "      <td>04/01/20</td>\n",
       "      <td>NaN</td>\n",
       "      <td>0.0</td>\n",
       "      <td>NaN</td>\n",
       "      <td>NaN</td>\n",
       "      <td>0.0</td>\n",
       "      <td>NaN</td>\n",
       "      <td>...</td>\n",
       "      <td>1803.987</td>\n",
       "      <td>NaN</td>\n",
       "      <td>597.029</td>\n",
       "      <td>9.59</td>\n",
       "      <td>NaN</td>\n",
       "      <td>NaN</td>\n",
       "      <td>37.746</td>\n",
       "      <td>0.5</td>\n",
       "      <td>64.83</td>\n",
       "      <td>0.498</td>\n",
       "    </tr>\n",
       "  </tbody>\n",
       "</table>\n",
       "<p>5 rows × 49 columns</p>\n",
       "</div>"
      ],
      "text/plain": [
       "  iso_code continent     location      date  total_cases  new_cases  \\\n",
       "0      AFG      Asia  Afghanistan  31/12/19          NaN        0.0   \n",
       "1      AFG      Asia  Afghanistan  01/01/20          NaN        0.0   \n",
       "2      AFG      Asia  Afghanistan  02/01/20          NaN        0.0   \n",
       "3      AFG      Asia  Afghanistan  03/01/20          NaN        0.0   \n",
       "4      AFG      Asia  Afghanistan  04/01/20          NaN        0.0   \n",
       "\n",
       "   new_cases_smoothed  total_deaths  new_deaths  new_deaths_smoothed  ...  \\\n",
       "0                 NaN           NaN         0.0                  NaN  ...   \n",
       "1                 NaN           NaN         0.0                  NaN  ...   \n",
       "2                 NaN           NaN         0.0                  NaN  ...   \n",
       "3                 NaN           NaN         0.0                  NaN  ...   \n",
       "4                 NaN           NaN         0.0                  NaN  ...   \n",
       "\n",
       "   gdp_per_capita  extreme_poverty  cardiovasc_death_rate  \\\n",
       "0        1803.987              NaN                597.029   \n",
       "1        1803.987              NaN                597.029   \n",
       "2        1803.987              NaN                597.029   \n",
       "3        1803.987              NaN                597.029   \n",
       "4        1803.987              NaN                597.029   \n",
       "\n",
       "   diabetes_prevalence  female_smokers  male_smokers  handwashing_facilities  \\\n",
       "0                 9.59             NaN           NaN                  37.746   \n",
       "1                 9.59             NaN           NaN                  37.746   \n",
       "2                 9.59             NaN           NaN                  37.746   \n",
       "3                 9.59             NaN           NaN                  37.746   \n",
       "4                 9.59             NaN           NaN                  37.746   \n",
       "\n",
       "   hospital_beds_per_thousand  life_expectancy  human_development_index  \n",
       "0                         0.5            64.83                    0.498  \n",
       "1                         0.5            64.83                    0.498  \n",
       "2                         0.5            64.83                    0.498  \n",
       "3                         0.5            64.83                    0.498  \n",
       "4                         0.5            64.83                    0.498  \n",
       "\n",
       "[5 rows x 49 columns]"
      ]
     },
     "execution_count": 6,
     "metadata": {},
     "output_type": "execute_result"
    }
   ],
   "source": [
    "df.head()"
   ]
  },
  {
   "cell_type": "code",
   "execution_count": 7,
   "id": "f5ba1a45",
   "metadata": {},
   "outputs": [
    {
     "data": {
      "text/plain": [
       "(57394, 49)"
      ]
     },
     "execution_count": 7,
     "metadata": {},
     "output_type": "execute_result"
    }
   ],
   "source": [
    "df.shape"
   ]
  },
  {
   "cell_type": "markdown",
   "id": "3d3e7d33",
   "metadata": {},
   "source": [
    "**<li> This data has 57,394 rows and 49 columns**"
   ]
  },
  {
   "cell_type": "code",
   "execution_count": 8,
   "id": "b4d81700",
   "metadata": {},
   "outputs": [
    {
     "data": {
      "text/plain": [
       "Index(['iso_code', 'continent', 'location', 'date', 'total_cases', 'new_cases',\n",
       "       'new_cases_smoothed', 'total_deaths', 'new_deaths',\n",
       "       'new_deaths_smoothed', 'total_cases_per_million',\n",
       "       'new_cases_per_million', 'new_cases_smoothed_per_million',\n",
       "       'total_deaths_per_million', 'new_deaths_per_million',\n",
       "       'new_deaths_smoothed_per_million', 'reproduction_rate', 'icu_patients',\n",
       "       'icu_patients_per_million', 'hosp_patients',\n",
       "       'hosp_patients_per_million', 'weekly_icu_admissions',\n",
       "       'weekly_icu_admissions_per_million', 'weekly_hosp_admissions',\n",
       "       'weekly_hosp_admissions_per_million', 'total_tests', 'new_tests',\n",
       "       'total_tests_per_thousand', 'new_tests_per_thousand',\n",
       "       'new_tests_smoothed', 'new_tests_smoothed_per_thousand',\n",
       "       'tests_per_case', 'positive_rate', 'stringency_index', 'population',\n",
       "       'population_density', 'median_age', 'aged_65_older', 'aged_70_older',\n",
       "       'gdp_per_capita', 'extreme_poverty', 'cardiovasc_death_rate',\n",
       "       'diabetes_prevalence', 'female_smokers', 'male_smokers',\n",
       "       'handwashing_facilities', 'hospital_beds_per_thousand',\n",
       "       'life_expectancy', 'human_development_index'],\n",
       "      dtype='object')"
      ]
     },
     "execution_count": 8,
     "metadata": {},
     "output_type": "execute_result"
    }
   ],
   "source": [
    "df.columns"
   ]
  },
  {
   "cell_type": "markdown",
   "id": "f88d0295",
   "metadata": {},
   "source": [
    "#### Data types of columns"
   ]
  },
  {
   "cell_type": "code",
   "execution_count": 9,
   "id": "87562f30",
   "metadata": {},
   "outputs": [
    {
     "data": {
      "text/plain": [
       "iso_code                               object\n",
       "continent                              object\n",
       "location                               object\n",
       "date                                   object\n",
       "total_cases                           float64\n",
       "new_cases                             float64\n",
       "new_cases_smoothed                    float64\n",
       "total_deaths                          float64\n",
       "new_deaths                            float64\n",
       "new_deaths_smoothed                   float64\n",
       "total_cases_per_million               float64\n",
       "new_cases_per_million                 float64\n",
       "new_cases_smoothed_per_million        float64\n",
       "total_deaths_per_million              float64\n",
       "new_deaths_per_million                float64\n",
       "new_deaths_smoothed_per_million       float64\n",
       "reproduction_rate                     float64\n",
       "icu_patients                          float64\n",
       "icu_patients_per_million              float64\n",
       "hosp_patients                         float64\n",
       "hosp_patients_per_million             float64\n",
       "weekly_icu_admissions                 float64\n",
       "weekly_icu_admissions_per_million     float64\n",
       "weekly_hosp_admissions                float64\n",
       "weekly_hosp_admissions_per_million    float64\n",
       "total_tests                           float64\n",
       "new_tests                             float64\n",
       "total_tests_per_thousand              float64\n",
       "new_tests_per_thousand                float64\n",
       "new_tests_smoothed                    float64\n",
       "new_tests_smoothed_per_thousand       float64\n",
       "tests_per_case                        float64\n",
       "positive_rate                         float64\n",
       "stringency_index                      float64\n",
       "population                            float64\n",
       "population_density                    float64\n",
       "median_age                            float64\n",
       "aged_65_older                         float64\n",
       "aged_70_older                         float64\n",
       "gdp_per_capita                        float64\n",
       "extreme_poverty                       float64\n",
       "cardiovasc_death_rate                 float64\n",
       "diabetes_prevalence                   float64\n",
       "female_smokers                        float64\n",
       "male_smokers                          float64\n",
       "handwashing_facilities                float64\n",
       "hospital_beds_per_thousand            float64\n",
       "life_expectancy                       float64\n",
       "human_development_index               float64\n",
       "dtype: object"
      ]
     },
     "execution_count": 9,
     "metadata": {},
     "output_type": "execute_result"
    }
   ],
   "source": [
    "df.dtypes"
   ]
  },
  {
   "cell_type": "code",
   "execution_count": 10,
   "id": "820cfe6f",
   "metadata": {},
   "outputs": [
    {
     "name": "stdout",
     "output_type": "stream",
     "text": [
      "<class 'pandas.core.frame.DataFrame'>\n",
      "RangeIndex: 57394 entries, 0 to 57393\n",
      "Data columns (total 49 columns):\n",
      " #   Column                              Non-Null Count  Dtype  \n",
      "---  ------                              --------------  -----  \n",
      " 0   iso_code                            57071 non-null  object \n",
      " 1   continent                           56748 non-null  object \n",
      " 2   location                            57394 non-null  object \n",
      " 3   date                                57394 non-null  object \n",
      " 4   total_cases                         53758 non-null  float64\n",
      " 5   new_cases                           56465 non-null  float64\n",
      " 6   new_cases_smoothed                  55652 non-null  float64\n",
      " 7   total_deaths                        44368 non-null  float64\n",
      " 8   new_deaths                          56465 non-null  float64\n",
      " 9   new_deaths_smoothed                 55652 non-null  float64\n",
      " 10  total_cases_per_million             53471 non-null  float64\n",
      " 11  new_cases_per_million               56401 non-null  float64\n",
      " 12  new_cases_smoothed_per_million      55587 non-null  float64\n",
      " 13  total_deaths_per_million            44096 non-null  float64\n",
      " 14  new_deaths_per_million              56401 non-null  float64\n",
      " 15  new_deaths_smoothed_per_million     55587 non-null  float64\n",
      " 16  reproduction_rate                   37696 non-null  float64\n",
      " 17  icu_patients                        4490 non-null   float64\n",
      " 18  icu_patients_per_million            4490 non-null   float64\n",
      " 19  hosp_patients                       5005 non-null   float64\n",
      " 20  hosp_patients_per_million           5005 non-null   float64\n",
      " 21  weekly_icu_admissions               357 non-null    float64\n",
      " 22  weekly_icu_admissions_per_million   357 non-null    float64\n",
      " 23  weekly_hosp_admissions              645 non-null    float64\n",
      " 24  weekly_hosp_admissions_per_million  645 non-null    float64\n",
      " 25  total_tests                         22017 non-null  float64\n",
      " 26  new_tests                           21787 non-null  float64\n",
      " 27  total_tests_per_thousand            22017 non-null  float64\n",
      " 28  new_tests_per_thousand              21787 non-null  float64\n",
      " 29  new_tests_smoothed                  24612 non-null  float64\n",
      " 30  new_tests_smoothed_per_thousand     24612 non-null  float64\n",
      " 31  tests_per_case                      22802 non-null  float64\n",
      " 32  positive_rate                       23211 non-null  float64\n",
      " 33  stringency_index                    47847 non-null  float64\n",
      " 34  population                          57071 non-null  float64\n",
      " 35  population_density                  54371 non-null  float64\n",
      " 36  median_age                          51034 non-null  float64\n",
      " 37  aged_65_older                       50265 non-null  float64\n",
      " 38  aged_70_older                       50768 non-null  float64\n",
      " 39  gdp_per_capita                      50367 non-null  float64\n",
      " 40  extreme_poverty                     33571 non-null  float64\n",
      " 41  cardiovasc_death_rate               51013 non-null  float64\n",
      " 42  diabetes_prevalence                 52881 non-null  float64\n",
      " 43  female_smokers                      39669 non-null  float64\n",
      " 44  male_smokers                        39156 non-null  float64\n",
      " 45  handwashing_facilities              24176 non-null  float64\n",
      " 46  hospital_beds_per_thousand          45936 non-null  float64\n",
      " 47  life_expectancy                     56336 non-null  float64\n",
      " 48  human_development_index             49247 non-null  float64\n",
      "dtypes: float64(45), object(4)\n",
      "memory usage: 21.5+ MB\n"
     ]
    }
   ],
   "source": [
    "df.info()"
   ]
  },
  {
   "cell_type": "code",
   "execution_count": 11,
   "id": "def6d5b4",
   "metadata": {},
   "outputs": [
    {
     "data": {
      "text/html": [
       "<div>\n",
       "<style scoped>\n",
       "    .dataframe tbody tr th:only-of-type {\n",
       "        vertical-align: middle;\n",
       "    }\n",
       "\n",
       "    .dataframe tbody tr th {\n",
       "        vertical-align: top;\n",
       "    }\n",
       "\n",
       "    .dataframe thead th {\n",
       "        text-align: right;\n",
       "    }\n",
       "</style>\n",
       "<table border=\"1\" class=\"dataframe\">\n",
       "  <thead>\n",
       "    <tr style=\"text-align: right;\">\n",
       "      <th></th>\n",
       "      <th>total_cases</th>\n",
       "      <th>new_cases</th>\n",
       "      <th>new_cases_smoothed</th>\n",
       "      <th>total_deaths</th>\n",
       "      <th>new_deaths</th>\n",
       "      <th>new_deaths_smoothed</th>\n",
       "      <th>total_cases_per_million</th>\n",
       "      <th>new_cases_per_million</th>\n",
       "      <th>new_cases_smoothed_per_million</th>\n",
       "      <th>total_deaths_per_million</th>\n",
       "      <th>...</th>\n",
       "      <th>gdp_per_capita</th>\n",
       "      <th>extreme_poverty</th>\n",
       "      <th>cardiovasc_death_rate</th>\n",
       "      <th>diabetes_prevalence</th>\n",
       "      <th>female_smokers</th>\n",
       "      <th>male_smokers</th>\n",
       "      <th>handwashing_facilities</th>\n",
       "      <th>hospital_beds_per_thousand</th>\n",
       "      <th>life_expectancy</th>\n",
       "      <th>human_development_index</th>\n",
       "    </tr>\n",
       "  </thead>\n",
       "  <tbody>\n",
       "    <tr>\n",
       "      <th>count</th>\n",
       "      <td>53758</td>\n",
       "      <td>56465</td>\n",
       "      <td>55652</td>\n",
       "      <td>44368</td>\n",
       "      <td>56465</td>\n",
       "      <td>55652</td>\n",
       "      <td>53471</td>\n",
       "      <td>56401</td>\n",
       "      <td>55587</td>\n",
       "      <td>44096</td>\n",
       "      <td>...</td>\n",
       "      <td>50367</td>\n",
       "      <td>33571</td>\n",
       "      <td>51013</td>\n",
       "      <td>52881</td>\n",
       "      <td>39669</td>\n",
       "      <td>39156</td>\n",
       "      <td>24176</td>\n",
       "      <td>45936</td>\n",
       "      <td>56336</td>\n",
       "      <td>49247</td>\n",
       "    </tr>\n",
       "    <tr>\n",
       "      <th>mean</th>\n",
       "      <td>167797</td>\n",
       "      <td>1953</td>\n",
       "      <td>1920</td>\n",
       "      <td>6858</td>\n",
       "      <td>47</td>\n",
       "      <td>46</td>\n",
       "      <td>3139</td>\n",
       "      <td>39</td>\n",
       "      <td>38</td>\n",
       "      <td>95</td>\n",
       "      <td>...</td>\n",
       "      <td>20620</td>\n",
       "      <td>12</td>\n",
       "      <td>252</td>\n",
       "      <td>8</td>\n",
       "      <td>10</td>\n",
       "      <td>32</td>\n",
       "      <td>52</td>\n",
       "      <td>3</td>\n",
       "      <td>73</td>\n",
       "      <td>0</td>\n",
       "    </tr>\n",
       "    <tr>\n",
       "      <th>std</th>\n",
       "      <td>1693037</td>\n",
       "      <td>18269</td>\n",
       "      <td>17777</td>\n",
       "      <td>55780</td>\n",
       "      <td>390</td>\n",
       "      <td>378</td>\n",
       "      <td>6183</td>\n",
       "      <td>133</td>\n",
       "      <td>101</td>\n",
       "      <td>180</td>\n",
       "      <td>...</td>\n",
       "      <td>20310</td>\n",
       "      <td>19</td>\n",
       "      <td>117</td>\n",
       "      <td>4</td>\n",
       "      <td>10</td>\n",
       "      <td>13</td>\n",
       "      <td>31</td>\n",
       "      <td>2</td>\n",
       "      <td>7</td>\n",
       "      <td>0</td>\n",
       "    </tr>\n",
       "    <tr>\n",
       "      <th>min</th>\n",
       "      <td>1</td>\n",
       "      <td>-8261</td>\n",
       "      <td>-552</td>\n",
       "      <td>1</td>\n",
       "      <td>-1918</td>\n",
       "      <td>-232</td>\n",
       "      <td>0</td>\n",
       "      <td>-2212</td>\n",
       "      <td>-269</td>\n",
       "      <td>0</td>\n",
       "      <td>...</td>\n",
       "      <td>661</td>\n",
       "      <td>0</td>\n",
       "      <td>79</td>\n",
       "      <td>0</td>\n",
       "      <td>0</td>\n",
       "      <td>7</td>\n",
       "      <td>1</td>\n",
       "      <td>0</td>\n",
       "      <td>53</td>\n",
       "      <td>0</td>\n",
       "    </tr>\n",
       "    <tr>\n",
       "      <th>25%</th>\n",
       "      <td>180</td>\n",
       "      <td>0</td>\n",
       "      <td>0</td>\n",
       "      <td>13</td>\n",
       "      <td>0</td>\n",
       "      <td>0</td>\n",
       "      <td>90</td>\n",
       "      <td>0</td>\n",
       "      <td>0</td>\n",
       "      <td>3</td>\n",
       "      <td>...</td>\n",
       "      <td>5321</td>\n",
       "      <td>0</td>\n",
       "      <td>156</td>\n",
       "      <td>5</td>\n",
       "      <td>1</td>\n",
       "      <td>21</td>\n",
       "      <td>21</td>\n",
       "      <td>1</td>\n",
       "      <td>69</td>\n",
       "      <td>0</td>\n",
       "    </tr>\n",
       "    <tr>\n",
       "      <th>50%</th>\n",
       "      <td>2070</td>\n",
       "      <td>14</td>\n",
       "      <td>19</td>\n",
       "      <td>84</td>\n",
       "      <td>0</td>\n",
       "      <td>0</td>\n",
       "      <td>593</td>\n",
       "      <td>2</td>\n",
       "      <td>3</td>\n",
       "      <td>20</td>\n",
       "      <td>...</td>\n",
       "      <td>13913</td>\n",
       "      <td>2</td>\n",
       "      <td>238</td>\n",
       "      <td>7</td>\n",
       "      <td>6</td>\n",
       "      <td>31</td>\n",
       "      <td>52</td>\n",
       "      <td>2</td>\n",
       "      <td>75</td>\n",
       "      <td>0</td>\n",
       "    </tr>\n",
       "    <tr>\n",
       "      <th>75%</th>\n",
       "      <td>22356</td>\n",
       "      <td>235</td>\n",
       "      <td>245</td>\n",
       "      <td>727</td>\n",
       "      <td>4</td>\n",
       "      <td>4</td>\n",
       "      <td>3487</td>\n",
       "      <td>25</td>\n",
       "      <td>29</td>\n",
       "      <td>90</td>\n",
       "      <td>...</td>\n",
       "      <td>31400</td>\n",
       "      <td>18</td>\n",
       "      <td>318</td>\n",
       "      <td>10</td>\n",
       "      <td>19</td>\n",
       "      <td>40</td>\n",
       "      <td>83</td>\n",
       "      <td>4</td>\n",
       "      <td>79</td>\n",
       "      <td>0</td>\n",
       "    </tr>\n",
       "    <tr>\n",
       "      <th>max</th>\n",
       "      <td>55154651</td>\n",
       "      <td>646281</td>\n",
       "      <td>584981</td>\n",
       "      <td>1328537</td>\n",
       "      <td>10600</td>\n",
       "      <td>9027</td>\n",
       "      <td>76541</td>\n",
       "      <td>8652</td>\n",
       "      <td>2472</td>\n",
       "      <td>1248</td>\n",
       "      <td>...</td>\n",
       "      <td>116935</td>\n",
       "      <td>77</td>\n",
       "      <td>724</td>\n",
       "      <td>30</td>\n",
       "      <td>44</td>\n",
       "      <td>78</td>\n",
       "      <td>98</td>\n",
       "      <td>13</td>\n",
       "      <td>86</td>\n",
       "      <td>0</td>\n",
       "    </tr>\n",
       "  </tbody>\n",
       "</table>\n",
       "<p>8 rows × 45 columns</p>\n",
       "</div>"
      ],
      "text/plain": [
       "       total_cases  new_cases  new_cases_smoothed  total_deaths  new_deaths  \\\n",
       "count        53758      56465               55652         44368       56465   \n",
       "mean        167797       1953                1920          6858          47   \n",
       "std        1693037      18269               17777         55780         390   \n",
       "min              1      -8261                -552             1       -1918   \n",
       "25%            180          0                   0            13           0   \n",
       "50%           2070         14                  19            84           0   \n",
       "75%          22356        235                 245           727           4   \n",
       "max       55154651     646281              584981       1328537       10600   \n",
       "\n",
       "       new_deaths_smoothed  total_cases_per_million  new_cases_per_million  \\\n",
       "count                55652                    53471                  56401   \n",
       "mean                    46                     3139                     39   \n",
       "std                    378                     6183                    133   \n",
       "min                   -232                        0                  -2212   \n",
       "25%                      0                       90                      0   \n",
       "50%                      0                      593                      2   \n",
       "75%                      4                     3487                     25   \n",
       "max                   9027                    76541                   8652   \n",
       "\n",
       "       new_cases_smoothed_per_million  total_deaths_per_million  ...  \\\n",
       "count                           55587                     44096  ...   \n",
       "mean                               38                        95  ...   \n",
       "std                               101                       180  ...   \n",
       "min                              -269                         0  ...   \n",
       "25%                                 0                         3  ...   \n",
       "50%                                 3                        20  ...   \n",
       "75%                                29                        90  ...   \n",
       "max                              2472                      1248  ...   \n",
       "\n",
       "       gdp_per_capita  extreme_poverty  cardiovasc_death_rate  \\\n",
       "count           50367            33571                  51013   \n",
       "mean            20620               12                    252   \n",
       "std             20310               19                    117   \n",
       "min               661                0                     79   \n",
       "25%              5321                0                    156   \n",
       "50%             13913                2                    238   \n",
       "75%             31400               18                    318   \n",
       "max            116935               77                    724   \n",
       "\n",
       "       diabetes_prevalence  female_smokers  male_smokers  \\\n",
       "count                52881           39669         39156   \n",
       "mean                     8              10            32   \n",
       "std                      4              10            13   \n",
       "min                      0               0             7   \n",
       "25%                      5               1            21   \n",
       "50%                      7               6            31   \n",
       "75%                     10              19            40   \n",
       "max                     30              44            78   \n",
       "\n",
       "       handwashing_facilities  hospital_beds_per_thousand  life_expectancy  \\\n",
       "count                   24176                       45936            56336   \n",
       "mean                       52                           3               73   \n",
       "std                        31                           2                7   \n",
       "min                         1                           0               53   \n",
       "25%                        21                           1               69   \n",
       "50%                        52                           2               75   \n",
       "75%                        83                           4               79   \n",
       "max                        98                          13               86   \n",
       "\n",
       "       human_development_index  \n",
       "count                    49247  \n",
       "mean                         0  \n",
       "std                          0  \n",
       "min                          0  \n",
       "25%                          0  \n",
       "50%                          0  \n",
       "75%                          0  \n",
       "max                          0  \n",
       "\n",
       "[8 rows x 45 columns]"
      ]
     },
     "execution_count": 11,
     "metadata": {},
     "output_type": "execute_result"
    }
   ],
   "source": [
    "df.describe().astype('int64')"
   ]
  },
  {
   "cell_type": "markdown",
   "id": "d38ad3bb",
   "metadata": {},
   "source": [
    "### Low level data understanding"
   ]
  },
  {
   "cell_type": "markdown",
   "id": "44887696",
   "metadata": {},
   "source": [
    "#### count of unique values in location column"
   ]
  },
  {
   "cell_type": "code",
   "execution_count": 12,
   "id": "9e3623bb",
   "metadata": {},
   "outputs": [
    {
     "data": {
      "text/plain": [
       "216"
      ]
     },
     "execution_count": 12,
     "metadata": {},
     "output_type": "execute_result"
    }
   ],
   "source": [
    "df['location'].nunique()"
   ]
  },
  {
   "cell_type": "markdown",
   "id": "8ffdd912",
   "metadata": {},
   "source": [
    "#### which continent has maximum frequency using values counts"
   ]
  },
  {
   "cell_type": "code",
   "execution_count": 13,
   "id": "2bc6c59d",
   "metadata": {},
   "outputs": [
    {
     "data": {
      "text/plain": [
       "Europe           14828\n",
       "Africa           13637\n",
       "Asia             13528\n",
       "North America     9116\n",
       "South America     3404\n",
       "Oceania           2235\n",
       "Name: continent, dtype: int64"
      ]
     },
     "execution_count": 13,
     "metadata": {},
     "output_type": "execute_result"
    }
   ],
   "source": [
    "df['continent'].value_counts()"
   ]
  },
  {
   "cell_type": "markdown",
   "id": "a6d49fc2",
   "metadata": {},
   "source": [
    "#### maximum & mean value in 'total_cases'"
   ]
  },
  {
   "cell_type": "code",
   "execution_count": 14,
   "id": "ddde0d30",
   "metadata": {},
   "outputs": [
    {
     "data": {
      "text/plain": [
       "55154651.0"
      ]
     },
     "execution_count": 14,
     "metadata": {},
     "output_type": "execute_result"
    }
   ],
   "source": [
    "df['total_cases'].max()"
   ]
  },
  {
   "cell_type": "code",
   "execution_count": 15,
   "id": "c1d38d52",
   "metadata": {},
   "outputs": [
    {
     "data": {
      "text/plain": [
       "167797.3688753302"
      ]
     },
     "execution_count": 15,
     "metadata": {},
     "output_type": "execute_result"
    }
   ],
   "source": [
    "df['total_cases'].mean()"
   ]
  },
  {
   "cell_type": "markdown",
   "id": "9e70d4b2",
   "metadata": {},
   "source": [
    "#### 25%,50% & 75% quartile value in 'total_deaths'"
   ]
  },
  {
   "cell_type": "code",
   "execution_count": 16,
   "id": "85a155bc",
   "metadata": {},
   "outputs": [
    {
     "data": {
      "text/plain": [
       "count      44368\n",
       "mean        6858\n",
       "std        55780\n",
       "min            1\n",
       "25%           13\n",
       "50%           84\n",
       "75%          727\n",
       "max      1328537\n",
       "Name: total_deaths, dtype: int64"
      ]
     },
     "execution_count": 16,
     "metadata": {},
     "output_type": "execute_result"
    }
   ],
   "source": [
    "df['total_deaths'].describe().astype('int64')"
   ]
  },
  {
   "cell_type": "markdown",
   "id": "00dfec8f",
   "metadata": {},
   "source": [
    "#### which continent has maximum 'human_development_index'."
   ]
  },
  {
   "cell_type": "code",
   "execution_count": 17,
   "id": "f4767ab6",
   "metadata": {},
   "outputs": [
    {
     "data": {
      "text/plain": [
       "array(['Europe'], dtype=object)"
      ]
     },
     "execution_count": 17,
     "metadata": {},
     "output_type": "execute_result"
    }
   ],
   "source": [
    "df.loc[df['human_development_index']==df['human_development_index'].max(), 'continent'].unique()"
   ]
  },
  {
   "cell_type": "markdown",
   "id": "fd5614ff",
   "metadata": {},
   "source": [
    "#### which continent has minimum 'gdp_per_capita'"
   ]
  },
  {
   "cell_type": "code",
   "execution_count": 18,
   "id": "3667c333",
   "metadata": {},
   "outputs": [
    {
     "data": {
      "text/plain": [
       "array(['Africa'], dtype=object)"
      ]
     },
     "execution_count": 18,
     "metadata": {},
     "output_type": "execute_result"
    }
   ],
   "source": [
    "df.loc[df['gdp_per_capita']==df['gdp_per_capita'].min(), 'continent'].unique()"
   ]
  },
  {
   "cell_type": "markdown",
   "id": "9f52bac2",
   "metadata": {},
   "source": [
    "#### Filter the dataframe with only this columns ['continent','location','date','total_cases','total_deaths','gdp_per_capita','human_development_index'] and update the data frame\n"
   ]
  },
  {
   "cell_type": "code",
   "execution_count": 19,
   "id": "39d3c710",
   "metadata": {},
   "outputs": [],
   "source": [
    "df = df[['continent','location','date','total_cases','total_deaths','gdp_per_capita','human_development_index']]"
   ]
  },
  {
   "cell_type": "code",
   "execution_count": 20,
   "id": "4694c9f3",
   "metadata": {},
   "outputs": [
    {
     "data": {
      "text/html": [
       "<div>\n",
       "<style scoped>\n",
       "    .dataframe tbody tr th:only-of-type {\n",
       "        vertical-align: middle;\n",
       "    }\n",
       "\n",
       "    .dataframe tbody tr th {\n",
       "        vertical-align: top;\n",
       "    }\n",
       "\n",
       "    .dataframe thead th {\n",
       "        text-align: right;\n",
       "    }\n",
       "</style>\n",
       "<table border=\"1\" class=\"dataframe\">\n",
       "  <thead>\n",
       "    <tr style=\"text-align: right;\">\n",
       "      <th></th>\n",
       "      <th>continent</th>\n",
       "      <th>location</th>\n",
       "      <th>date</th>\n",
       "      <th>total_cases</th>\n",
       "      <th>total_deaths</th>\n",
       "      <th>gdp_per_capita</th>\n",
       "      <th>human_development_index</th>\n",
       "    </tr>\n",
       "  </thead>\n",
       "  <tbody>\n",
       "    <tr>\n",
       "      <th>0</th>\n",
       "      <td>Asia</td>\n",
       "      <td>Afghanistan</td>\n",
       "      <td>31/12/19</td>\n",
       "      <td>NaN</td>\n",
       "      <td>NaN</td>\n",
       "      <td>1803.987</td>\n",
       "      <td>0.498</td>\n",
       "    </tr>\n",
       "    <tr>\n",
       "      <th>1</th>\n",
       "      <td>Asia</td>\n",
       "      <td>Afghanistan</td>\n",
       "      <td>01/01/20</td>\n",
       "      <td>NaN</td>\n",
       "      <td>NaN</td>\n",
       "      <td>1803.987</td>\n",
       "      <td>0.498</td>\n",
       "    </tr>\n",
       "    <tr>\n",
       "      <th>2</th>\n",
       "      <td>Asia</td>\n",
       "      <td>Afghanistan</td>\n",
       "      <td>02/01/20</td>\n",
       "      <td>NaN</td>\n",
       "      <td>NaN</td>\n",
       "      <td>1803.987</td>\n",
       "      <td>0.498</td>\n",
       "    </tr>\n",
       "    <tr>\n",
       "      <th>3</th>\n",
       "      <td>Asia</td>\n",
       "      <td>Afghanistan</td>\n",
       "      <td>03/01/20</td>\n",
       "      <td>NaN</td>\n",
       "      <td>NaN</td>\n",
       "      <td>1803.987</td>\n",
       "      <td>0.498</td>\n",
       "    </tr>\n",
       "    <tr>\n",
       "      <th>4</th>\n",
       "      <td>Asia</td>\n",
       "      <td>Afghanistan</td>\n",
       "      <td>04/01/20</td>\n",
       "      <td>NaN</td>\n",
       "      <td>NaN</td>\n",
       "      <td>1803.987</td>\n",
       "      <td>0.498</td>\n",
       "    </tr>\n",
       "  </tbody>\n",
       "</table>\n",
       "</div>"
      ],
      "text/plain": [
       "  continent     location      date  total_cases  total_deaths  gdp_per_capita  \\\n",
       "0      Asia  Afghanistan  31/12/19          NaN           NaN        1803.987   \n",
       "1      Asia  Afghanistan  01/01/20          NaN           NaN        1803.987   \n",
       "2      Asia  Afghanistan  02/01/20          NaN           NaN        1803.987   \n",
       "3      Asia  Afghanistan  03/01/20          NaN           NaN        1803.987   \n",
       "4      Asia  Afghanistan  04/01/20          NaN           NaN        1803.987   \n",
       "\n",
       "   human_development_index  \n",
       "0                    0.498  \n",
       "1                    0.498  \n",
       "2                    0.498  \n",
       "3                    0.498  \n",
       "4                    0.498  "
      ]
     },
     "execution_count": 20,
     "metadata": {},
     "output_type": "execute_result"
    }
   ],
   "source": [
    "df.head()"
   ]
  },
  {
   "cell_type": "markdown",
   "id": "a559994d",
   "metadata": {},
   "source": [
    "### Data cleaning"
   ]
  },
  {
   "cell_type": "markdown",
   "id": "9bca594c",
   "metadata": {},
   "source": [
    "#### Remove all duplicates observations"
   ]
  },
  {
   "cell_type": "code",
   "execution_count": 21,
   "id": "6cf5f388",
   "metadata": {},
   "outputs": [
    {
     "data": {
      "text/html": [
       "<div>\n",
       "<style scoped>\n",
       "    .dataframe tbody tr th:only-of-type {\n",
       "        vertical-align: middle;\n",
       "    }\n",
       "\n",
       "    .dataframe tbody tr th {\n",
       "        vertical-align: top;\n",
       "    }\n",
       "\n",
       "    .dataframe thead th {\n",
       "        text-align: right;\n",
       "    }\n",
       "</style>\n",
       "<table border=\"1\" class=\"dataframe\">\n",
       "  <thead>\n",
       "    <tr style=\"text-align: right;\">\n",
       "      <th></th>\n",
       "      <th>continent</th>\n",
       "      <th>location</th>\n",
       "      <th>date</th>\n",
       "      <th>total_cases</th>\n",
       "      <th>total_deaths</th>\n",
       "      <th>gdp_per_capita</th>\n",
       "      <th>human_development_index</th>\n",
       "    </tr>\n",
       "  </thead>\n",
       "  <tbody>\n",
       "    <tr>\n",
       "      <th>0</th>\n",
       "      <td>Asia</td>\n",
       "      <td>Afghanistan</td>\n",
       "      <td>31/12/19</td>\n",
       "      <td>NaN</td>\n",
       "      <td>NaN</td>\n",
       "      <td>1803.987</td>\n",
       "      <td>0.498</td>\n",
       "    </tr>\n",
       "    <tr>\n",
       "      <th>1</th>\n",
       "      <td>Asia</td>\n",
       "      <td>Afghanistan</td>\n",
       "      <td>01/01/20</td>\n",
       "      <td>NaN</td>\n",
       "      <td>NaN</td>\n",
       "      <td>1803.987</td>\n",
       "      <td>0.498</td>\n",
       "    </tr>\n",
       "    <tr>\n",
       "      <th>2</th>\n",
       "      <td>Asia</td>\n",
       "      <td>Afghanistan</td>\n",
       "      <td>02/01/20</td>\n",
       "      <td>NaN</td>\n",
       "      <td>NaN</td>\n",
       "      <td>1803.987</td>\n",
       "      <td>0.498</td>\n",
       "    </tr>\n",
       "    <tr>\n",
       "      <th>3</th>\n",
       "      <td>Asia</td>\n",
       "      <td>Afghanistan</td>\n",
       "      <td>03/01/20</td>\n",
       "      <td>NaN</td>\n",
       "      <td>NaN</td>\n",
       "      <td>1803.987</td>\n",
       "      <td>0.498</td>\n",
       "    </tr>\n",
       "    <tr>\n",
       "      <th>4</th>\n",
       "      <td>Asia</td>\n",
       "      <td>Afghanistan</td>\n",
       "      <td>04/01/20</td>\n",
       "      <td>NaN</td>\n",
       "      <td>NaN</td>\n",
       "      <td>1803.987</td>\n",
       "      <td>0.498</td>\n",
       "    </tr>\n",
       "    <tr>\n",
       "      <th>...</th>\n",
       "      <td>...</td>\n",
       "      <td>...</td>\n",
       "      <td>...</td>\n",
       "      <td>...</td>\n",
       "      <td>...</td>\n",
       "      <td>...</td>\n",
       "      <td>...</td>\n",
       "    </tr>\n",
       "    <tr>\n",
       "      <th>57389</th>\n",
       "      <td>NaN</td>\n",
       "      <td>International</td>\n",
       "      <td>13/11/20</td>\n",
       "      <td>696.0</td>\n",
       "      <td>7.0</td>\n",
       "      <td>NaN</td>\n",
       "      <td>NaN</td>\n",
       "    </tr>\n",
       "    <tr>\n",
       "      <th>57390</th>\n",
       "      <td>NaN</td>\n",
       "      <td>International</td>\n",
       "      <td>14/11/20</td>\n",
       "      <td>696.0</td>\n",
       "      <td>7.0</td>\n",
       "      <td>NaN</td>\n",
       "      <td>NaN</td>\n",
       "    </tr>\n",
       "    <tr>\n",
       "      <th>57391</th>\n",
       "      <td>NaN</td>\n",
       "      <td>International</td>\n",
       "      <td>15/11/20</td>\n",
       "      <td>696.0</td>\n",
       "      <td>7.0</td>\n",
       "      <td>NaN</td>\n",
       "      <td>NaN</td>\n",
       "    </tr>\n",
       "    <tr>\n",
       "      <th>57392</th>\n",
       "      <td>NaN</td>\n",
       "      <td>International</td>\n",
       "      <td>16/11/20</td>\n",
       "      <td>696.0</td>\n",
       "      <td>7.0</td>\n",
       "      <td>NaN</td>\n",
       "      <td>NaN</td>\n",
       "    </tr>\n",
       "    <tr>\n",
       "      <th>57393</th>\n",
       "      <td>NaN</td>\n",
       "      <td>International</td>\n",
       "      <td>17/11/20</td>\n",
       "      <td>696.0</td>\n",
       "      <td>7.0</td>\n",
       "      <td>NaN</td>\n",
       "      <td>NaN</td>\n",
       "    </tr>\n",
       "  </tbody>\n",
       "</table>\n",
       "<p>57394 rows × 7 columns</p>\n",
       "</div>"
      ],
      "text/plain": [
       "      continent       location      date  total_cases  total_deaths  \\\n",
       "0          Asia    Afghanistan  31/12/19          NaN           NaN   \n",
       "1          Asia    Afghanistan  01/01/20          NaN           NaN   \n",
       "2          Asia    Afghanistan  02/01/20          NaN           NaN   \n",
       "3          Asia    Afghanistan  03/01/20          NaN           NaN   \n",
       "4          Asia    Afghanistan  04/01/20          NaN           NaN   \n",
       "...         ...            ...       ...          ...           ...   \n",
       "57389       NaN  International  13/11/20        696.0           7.0   \n",
       "57390       NaN  International  14/11/20        696.0           7.0   \n",
       "57391       NaN  International  15/11/20        696.0           7.0   \n",
       "57392       NaN  International  16/11/20        696.0           7.0   \n",
       "57393       NaN  International  17/11/20        696.0           7.0   \n",
       "\n",
       "       gdp_per_capita  human_development_index  \n",
       "0            1803.987                    0.498  \n",
       "1            1803.987                    0.498  \n",
       "2            1803.987                    0.498  \n",
       "3            1803.987                    0.498  \n",
       "4            1803.987                    0.498  \n",
       "...               ...                      ...  \n",
       "57389             NaN                      NaN  \n",
       "57390             NaN                      NaN  \n",
       "57391             NaN                      NaN  \n",
       "57392             NaN                      NaN  \n",
       "57393             NaN                      NaN  \n",
       "\n",
       "[57394 rows x 7 columns]"
      ]
     },
     "execution_count": 21,
     "metadata": {},
     "output_type": "execute_result"
    }
   ],
   "source": [
    "df.drop_duplicates()"
   ]
  },
  {
   "cell_type": "markdown",
   "id": "a4321918",
   "metadata": {},
   "source": [
    "#### Find missing values in all columns"
   ]
  },
  {
   "cell_type": "code",
   "execution_count": 22,
   "id": "ae7c5eef",
   "metadata": {},
   "outputs": [
    {
     "data": {
      "text/plain": [
       "continent                    646\n",
       "location                       0\n",
       "date                           0\n",
       "total_cases                 3636\n",
       "total_deaths               13026\n",
       "gdp_per_capita              7027\n",
       "human_development_index     8147\n",
       "dtype: int64"
      ]
     },
     "execution_count": 22,
     "metadata": {},
     "output_type": "execute_result"
    }
   ],
   "source": [
    "df.isnull().sum()"
   ]
  },
  {
   "cell_type": "code",
   "execution_count": 23,
   "id": "915b25d7",
   "metadata": {},
   "outputs": [
    {
     "data": {
      "text/plain": [
       "<AxesSubplot:>"
      ]
     },
     "execution_count": 23,
     "metadata": {},
     "output_type": "execute_result"
    },
    {
     "data": {
      "image/png": "[encoded data removed]",
      "text/plain": [
       "<Figure size 1800x720 with 3 Axes>"
      ]
     },
     "metadata": {
      "needs_background": "light"
     },
     "output_type": "display_data"
    }
   ],
   "source": [
    "import missingno as msno\n",
    "msno.bar(df)"
   ]
  },
  {
   "cell_type": "markdown",
   "id": "4ed2966d",
   "metadata": {},
   "source": [
    "#### Remove all observations where continent column value is missing"
   ]
  },
  {
   "cell_type": "code",
   "execution_count": 24,
   "id": "fc24b221",
   "metadata": {},
   "outputs": [
    {
     "data": {
      "text/plain": [
       "0          Asia\n",
       "1          Asia\n",
       "2          Asia\n",
       "3          Asia\n",
       "4          Asia\n",
       "          ...  \n",
       "56743    Africa\n",
       "56744    Africa\n",
       "56745    Africa\n",
       "56746    Africa\n",
       "56747    Africa\n",
       "Name: continent, Length: 56748, dtype: object"
      ]
     },
     "execution_count": 24,
     "metadata": {},
     "output_type": "execute_result"
    }
   ],
   "source": [
    "df['continent'].dropna()"
   ]
  },
  {
   "cell_type": "markdown",
   "id": "75144486",
   "metadata": {},
   "source": [
    "#### Fill all missing values with 0"
   ]
  },
  {
   "cell_type": "code",
   "execution_count": 25,
   "id": "ace7ab8e",
   "metadata": {},
   "outputs": [],
   "source": [
    "df.fillna(value=0,inplace=True)"
   ]
  },
  {
   "cell_type": "markdown",
   "id": "77b7ab1a",
   "metadata": {},
   "source": [
    "### Convert date column in datetime format using pandas.to_datetime"
   ]
  },
  {
   "cell_type": "code",
   "execution_count": 26,
   "id": "9ef60e68",
   "metadata": {},
   "outputs": [],
   "source": [
    "df['date'] = pd.to_datetime(df['date'])"
   ]
  },
  {
   "cell_type": "markdown",
   "id": "32ae944c",
   "metadata": {},
   "source": [
    "#### Create new column month after extracting month data from date column"
   ]
  },
  {
   "cell_type": "code",
   "execution_count": 27,
   "id": "366c8e1f",
   "metadata": {},
   "outputs": [],
   "source": [
    "df['month'] = df['date'].dt.month"
   ]
  },
  {
   "cell_type": "code",
   "execution_count": 28,
   "id": "0a13c396",
   "metadata": {},
   "outputs": [
    {
     "data": {
      "text/html": [
       "<div>\n",
       "<style scoped>\n",
       "    .dataframe tbody tr th:only-of-type {\n",
       "        vertical-align: middle;\n",
       "    }\n",
       "\n",
       "    .dataframe tbody tr th {\n",
       "        vertical-align: top;\n",
       "    }\n",
       "\n",
       "    .dataframe thead th {\n",
       "        text-align: right;\n",
       "    }\n",
       "</style>\n",
       "<table border=\"1\" class=\"dataframe\">\n",
       "  <thead>\n",
       "    <tr style=\"text-align: right;\">\n",
       "      <th></th>\n",
       "      <th>continent</th>\n",
       "      <th>location</th>\n",
       "      <th>date</th>\n",
       "      <th>total_cases</th>\n",
       "      <th>total_deaths</th>\n",
       "      <th>gdp_per_capita</th>\n",
       "      <th>human_development_index</th>\n",
       "      <th>month</th>\n",
       "    </tr>\n",
       "  </thead>\n",
       "  <tbody>\n",
       "    <tr>\n",
       "      <th>0</th>\n",
       "      <td>Asia</td>\n",
       "      <td>Afghanistan</td>\n",
       "      <td>2019-12-31</td>\n",
       "      <td>0.0</td>\n",
       "      <td>0.0</td>\n",
       "      <td>1803.987</td>\n",
       "      <td>0.498</td>\n",
       "      <td>12</td>\n",
       "    </tr>\n",
       "    <tr>\n",
       "      <th>1</th>\n",
       "      <td>Asia</td>\n",
       "      <td>Afghanistan</td>\n",
       "      <td>2020-01-01</td>\n",
       "      <td>0.0</td>\n",
       "      <td>0.0</td>\n",
       "      <td>1803.987</td>\n",
       "      <td>0.498</td>\n",
       "      <td>1</td>\n",
       "    </tr>\n",
       "    <tr>\n",
       "      <th>2</th>\n",
       "      <td>Asia</td>\n",
       "      <td>Afghanistan</td>\n",
       "      <td>2020-02-01</td>\n",
       "      <td>0.0</td>\n",
       "      <td>0.0</td>\n",
       "      <td>1803.987</td>\n",
       "      <td>0.498</td>\n",
       "      <td>2</td>\n",
       "    </tr>\n",
       "    <tr>\n",
       "      <th>3</th>\n",
       "      <td>Asia</td>\n",
       "      <td>Afghanistan</td>\n",
       "      <td>2020-03-01</td>\n",
       "      <td>0.0</td>\n",
       "      <td>0.0</td>\n",
       "      <td>1803.987</td>\n",
       "      <td>0.498</td>\n",
       "      <td>3</td>\n",
       "    </tr>\n",
       "    <tr>\n",
       "      <th>4</th>\n",
       "      <td>Asia</td>\n",
       "      <td>Afghanistan</td>\n",
       "      <td>2020-04-01</td>\n",
       "      <td>0.0</td>\n",
       "      <td>0.0</td>\n",
       "      <td>1803.987</td>\n",
       "      <td>0.498</td>\n",
       "      <td>4</td>\n",
       "    </tr>\n",
       "  </tbody>\n",
       "</table>\n",
       "</div>"
      ],
      "text/plain": [
       "  continent     location       date  total_cases  total_deaths  \\\n",
       "0      Asia  Afghanistan 2019-12-31          0.0           0.0   \n",
       "1      Asia  Afghanistan 2020-01-01          0.0           0.0   \n",
       "2      Asia  Afghanistan 2020-02-01          0.0           0.0   \n",
       "3      Asia  Afghanistan 2020-03-01          0.0           0.0   \n",
       "4      Asia  Afghanistan 2020-04-01          0.0           0.0   \n",
       "\n",
       "   gdp_per_capita  human_development_index  month  \n",
       "0        1803.987                    0.498     12  \n",
       "1        1803.987                    0.498      1  \n",
       "2        1803.987                    0.498      2  \n",
       "3        1803.987                    0.498      3  \n",
       "4        1803.987                    0.498      4  "
      ]
     },
     "execution_count": 28,
     "metadata": {},
     "output_type": "execute_result"
    }
   ],
   "source": [
    "df.head()"
   ]
  },
  {
   "cell_type": "markdown",
   "id": "3931033d",
   "metadata": {},
   "source": [
    "### Data Aggregation"
   ]
  },
  {
   "cell_type": "markdown",
   "id": "c46a5ae2",
   "metadata": {},
   "source": [
    "#### Find max value in all columns using groupby function on 'continent'"
   ]
  },
  {
   "cell_type": "code",
   "execution_count": 29,
   "id": "b514b46c",
   "metadata": {},
   "outputs": [],
   "source": [
    "df_groupby = df.groupby(by='continent')"
   ]
  },
  {
   "cell_type": "code",
   "execution_count": 30,
   "id": "2e40478d",
   "metadata": {},
   "outputs": [
    {
     "data": {
      "text/html": [
       "<div>\n",
       "<style scoped>\n",
       "    .dataframe tbody tr th:only-of-type {\n",
       "        vertical-align: middle;\n",
       "    }\n",
       "\n",
       "    .dataframe tbody tr th {\n",
       "        vertical-align: top;\n",
       "    }\n",
       "\n",
       "    .dataframe thead th {\n",
       "        text-align: right;\n",
       "    }\n",
       "</style>\n",
       "<table border=\"1\" class=\"dataframe\">\n",
       "  <thead>\n",
       "    <tr style=\"text-align: right;\">\n",
       "      <th></th>\n",
       "      <th>location</th>\n",
       "      <th>date</th>\n",
       "      <th>total_cases</th>\n",
       "      <th>total_deaths</th>\n",
       "      <th>gdp_per_capita</th>\n",
       "      <th>human_development_index</th>\n",
       "      <th>month</th>\n",
       "    </tr>\n",
       "    <tr>\n",
       "      <th>continent</th>\n",
       "      <th></th>\n",
       "      <th></th>\n",
       "      <th></th>\n",
       "      <th></th>\n",
       "      <th></th>\n",
       "      <th></th>\n",
       "      <th></th>\n",
       "    </tr>\n",
       "  </thead>\n",
       "  <tbody>\n",
       "    <tr>\n",
       "      <th>0</th>\n",
       "      <td>World</td>\n",
       "      <td>2020-12-11</td>\n",
       "      <td>55154651.0</td>\n",
       "      <td>1328537.0</td>\n",
       "      <td>15469.207</td>\n",
       "      <td>0.000</td>\n",
       "      <td>12</td>\n",
       "    </tr>\n",
       "    <tr>\n",
       "      <th>Africa</th>\n",
       "      <td>Zimbabwe</td>\n",
       "      <td>2020-12-11</td>\n",
       "      <td>752269.0</td>\n",
       "      <td>20314.0</td>\n",
       "      <td>26382.287</td>\n",
       "      <td>0.797</td>\n",
       "      <td>12</td>\n",
       "    </tr>\n",
       "    <tr>\n",
       "      <th>Asia</th>\n",
       "      <td>Yemen</td>\n",
       "      <td>2020-12-11</td>\n",
       "      <td>8874290.0</td>\n",
       "      <td>130519.0</td>\n",
       "      <td>116935.600</td>\n",
       "      <td>0.933</td>\n",
       "      <td>12</td>\n",
       "    </tr>\n",
       "    <tr>\n",
       "      <th>Europe</th>\n",
       "      <td>Vatican</td>\n",
       "      <td>2020-12-11</td>\n",
       "      <td>1991233.0</td>\n",
       "      <td>52147.0</td>\n",
       "      <td>94277.965</td>\n",
       "      <td>0.953</td>\n",
       "      <td>12</td>\n",
       "    </tr>\n",
       "    <tr>\n",
       "      <th>North America</th>\n",
       "      <td>United States Virgin Islands</td>\n",
       "      <td>2020-12-11</td>\n",
       "      <td>11205486.0</td>\n",
       "      <td>247220.0</td>\n",
       "      <td>54225.446</td>\n",
       "      <td>0.926</td>\n",
       "      <td>12</td>\n",
       "    </tr>\n",
       "    <tr>\n",
       "      <th>Oceania</th>\n",
       "      <td>Wallis and Futuna</td>\n",
       "      <td>2020-12-11</td>\n",
       "      <td>27750.0</td>\n",
       "      <td>907.0</td>\n",
       "      <td>44648.710</td>\n",
       "      <td>0.939</td>\n",
       "      <td>12</td>\n",
       "    </tr>\n",
       "    <tr>\n",
       "      <th>South America</th>\n",
       "      <td>Venezuela</td>\n",
       "      <td>2020-12-11</td>\n",
       "      <td>5876464.0</td>\n",
       "      <td>166014.0</td>\n",
       "      <td>22767.037</td>\n",
       "      <td>0.843</td>\n",
       "      <td>12</td>\n",
       "    </tr>\n",
       "  </tbody>\n",
       "</table>\n",
       "</div>"
      ],
      "text/plain": [
       "                                   location       date  total_cases  \\\n",
       "continent                                                             \n",
       "0                                     World 2020-12-11   55154651.0   \n",
       "Africa                             Zimbabwe 2020-12-11     752269.0   \n",
       "Asia                                  Yemen 2020-12-11    8874290.0   \n",
       "Europe                              Vatican 2020-12-11    1991233.0   \n",
       "North America  United States Virgin Islands 2020-12-11   11205486.0   \n",
       "Oceania                   Wallis and Futuna 2020-12-11      27750.0   \n",
       "South America                     Venezuela 2020-12-11    5876464.0   \n",
       "\n",
       "               total_deaths  gdp_per_capita  human_development_index  month  \n",
       "continent                                                                    \n",
       "0                 1328537.0       15469.207                    0.000     12  \n",
       "Africa              20314.0       26382.287                    0.797     12  \n",
       "Asia               130519.0      116935.600                    0.933     12  \n",
       "Europe              52147.0       94277.965                    0.953     12  \n",
       "North America      247220.0       54225.446                    0.926     12  \n",
       "Oceania               907.0       44648.710                    0.939     12  \n",
       "South America      166014.0       22767.037                    0.843     12  "
      ]
     },
     "execution_count": 30,
     "metadata": {},
     "output_type": "execute_result"
    }
   ],
   "source": [
    "df_groupby.max()"
   ]
  },
  {
   "cell_type": "code",
   "execution_count": 31,
   "id": "137ea23f",
   "metadata": {},
   "outputs": [],
   "source": [
    "df_groupby=pd.DataFrame(df.groupby(by='continent'))"
   ]
  },
  {
   "cell_type": "markdown",
   "id": "6362c2e1",
   "metadata": {},
   "source": [
    "### Feature Engineering "
   ]
  },
  {
   "cell_type": "markdown",
   "id": "f8a4e9f2",
   "metadata": {},
   "source": [
    "#### Create a new feature 'total_deaths_to_total_cases' by ratio of 'total_deaths' column to 'total_cases'"
   ]
  },
  {
   "cell_type": "code",
   "execution_count": 32,
   "id": "6d8ee52c",
   "metadata": {},
   "outputs": [],
   "source": [
    "df['total_deaths_to_total_cases'] = df['total_deaths']/df['total_cases']"
   ]
  },
  {
   "cell_type": "code",
   "execution_count": 33,
   "id": "908eb06e",
   "metadata": {},
   "outputs": [
    {
     "data": {
      "text/html": [
       "<div>\n",
       "<style scoped>\n",
       "    .dataframe tbody tr th:only-of-type {\n",
       "        vertical-align: middle;\n",
       "    }\n",
       "\n",
       "    .dataframe tbody tr th {\n",
       "        vertical-align: top;\n",
       "    }\n",
       "\n",
       "    .dataframe thead th {\n",
       "        text-align: right;\n",
       "    }\n",
       "</style>\n",
       "<table border=\"1\" class=\"dataframe\">\n",
       "  <thead>\n",
       "    <tr style=\"text-align: right;\">\n",
       "      <th></th>\n",
       "      <th>continent</th>\n",
       "      <th>location</th>\n",
       "      <th>date</th>\n",
       "      <th>total_cases</th>\n",
       "      <th>total_deaths</th>\n",
       "      <th>gdp_per_capita</th>\n",
       "      <th>human_development_index</th>\n",
       "      <th>month</th>\n",
       "      <th>total_deaths_to_total_cases</th>\n",
       "    </tr>\n",
       "  </thead>\n",
       "  <tbody>\n",
       "    <tr>\n",
       "      <th>0</th>\n",
       "      <td>Asia</td>\n",
       "      <td>Afghanistan</td>\n",
       "      <td>2019-12-31</td>\n",
       "      <td>0.0</td>\n",
       "      <td>0.0</td>\n",
       "      <td>1803.987</td>\n",
       "      <td>0.498</td>\n",
       "      <td>12</td>\n",
       "      <td>NaN</td>\n",
       "    </tr>\n",
       "    <tr>\n",
       "      <th>1</th>\n",
       "      <td>Asia</td>\n",
       "      <td>Afghanistan</td>\n",
       "      <td>2020-01-01</td>\n",
       "      <td>0.0</td>\n",
       "      <td>0.0</td>\n",
       "      <td>1803.987</td>\n",
       "      <td>0.498</td>\n",
       "      <td>1</td>\n",
       "      <td>NaN</td>\n",
       "    </tr>\n",
       "    <tr>\n",
       "      <th>2</th>\n",
       "      <td>Asia</td>\n",
       "      <td>Afghanistan</td>\n",
       "      <td>2020-02-01</td>\n",
       "      <td>0.0</td>\n",
       "      <td>0.0</td>\n",
       "      <td>1803.987</td>\n",
       "      <td>0.498</td>\n",
       "      <td>2</td>\n",
       "      <td>NaN</td>\n",
       "    </tr>\n",
       "    <tr>\n",
       "      <th>3</th>\n",
       "      <td>Asia</td>\n",
       "      <td>Afghanistan</td>\n",
       "      <td>2020-03-01</td>\n",
       "      <td>0.0</td>\n",
       "      <td>0.0</td>\n",
       "      <td>1803.987</td>\n",
       "      <td>0.498</td>\n",
       "      <td>3</td>\n",
       "      <td>NaN</td>\n",
       "    </tr>\n",
       "    <tr>\n",
       "      <th>4</th>\n",
       "      <td>Asia</td>\n",
       "      <td>Afghanistan</td>\n",
       "      <td>2020-04-01</td>\n",
       "      <td>0.0</td>\n",
       "      <td>0.0</td>\n",
       "      <td>1803.987</td>\n",
       "      <td>0.498</td>\n",
       "      <td>4</td>\n",
       "      <td>NaN</td>\n",
       "    </tr>\n",
       "  </tbody>\n",
       "</table>\n",
       "</div>"
      ],
      "text/plain": [
       "  continent     location       date  total_cases  total_deaths  \\\n",
       "0      Asia  Afghanistan 2019-12-31          0.0           0.0   \n",
       "1      Asia  Afghanistan 2020-01-01          0.0           0.0   \n",
       "2      Asia  Afghanistan 2020-02-01          0.0           0.0   \n",
       "3      Asia  Afghanistan 2020-03-01          0.0           0.0   \n",
       "4      Asia  Afghanistan 2020-04-01          0.0           0.0   \n",
       "\n",
       "   gdp_per_capita  human_development_index  month  total_deaths_to_total_cases  \n",
       "0        1803.987                    0.498     12                          NaN  \n",
       "1        1803.987                    0.498      1                          NaN  \n",
       "2        1803.987                    0.498      2                          NaN  \n",
       "3        1803.987                    0.498      3                          NaN  \n",
       "4        1803.987                    0.498      4                          NaN  "
      ]
     },
     "execution_count": 33,
     "metadata": {},
     "output_type": "execute_result"
    }
   ],
   "source": [
    "df.head()"
   ]
  },
  {
   "cell_type": "code",
   "execution_count": 34,
   "id": "5ebc6670",
   "metadata": {},
   "outputs": [
    {
     "data": {
      "text/html": [
       "<div>\n",
       "<style scoped>\n",
       "    .dataframe tbody tr th:only-of-type {\n",
       "        vertical-align: middle;\n",
       "    }\n",
       "\n",
       "    .dataframe tbody tr th {\n",
       "        vertical-align: top;\n",
       "    }\n",
       "\n",
       "    .dataframe thead th {\n",
       "        text-align: right;\n",
       "    }\n",
       "</style>\n",
       "<table border=\"1\" class=\"dataframe\">\n",
       "  <thead>\n",
       "    <tr style=\"text-align: right;\">\n",
       "      <th></th>\n",
       "      <th>continent</th>\n",
       "      <th>location</th>\n",
       "      <th>date</th>\n",
       "      <th>total_cases</th>\n",
       "      <th>total_deaths</th>\n",
       "      <th>gdp_per_capita</th>\n",
       "      <th>human_development_index</th>\n",
       "      <th>month</th>\n",
       "      <th>total_deaths_to_total_cases</th>\n",
       "    </tr>\n",
       "  </thead>\n",
       "  <tbody>\n",
       "    <tr>\n",
       "      <th>2661</th>\n",
       "      <td>North America</td>\n",
       "      <td>Aruba</td>\n",
       "      <td>2020-09-10</td>\n",
       "      <td>4133.0</td>\n",
       "      <td>31.0</td>\n",
       "      <td>35973.781</td>\n",
       "      <td>0.000</td>\n",
       "      <td>9</td>\n",
       "      <td>0.007501</td>\n",
       "    </tr>\n",
       "    <tr>\n",
       "      <th>39205</th>\n",
       "      <td>Asia</td>\n",
       "      <td>Oman</td>\n",
       "      <td>2020-06-09</td>\n",
       "      <td>86380.0</td>\n",
       "      <td>705.0</td>\n",
       "      <td>37960.709</td>\n",
       "      <td>0.821</td>\n",
       "      <td>6</td>\n",
       "      <td>0.008162</td>\n",
       "    </tr>\n",
       "    <tr>\n",
       "      <th>9406</th>\n",
       "      <td>Africa</td>\n",
       "      <td>Cameroon</td>\n",
       "      <td>2020-04-10</td>\n",
       "      <td>20924.0</td>\n",
       "      <td>420.0</td>\n",
       "      <td>3364.926</td>\n",
       "      <td>0.556</td>\n",
       "      <td>4</td>\n",
       "      <td>0.020073</td>\n",
       "    </tr>\n",
       "  </tbody>\n",
       "</table>\n",
       "</div>"
      ],
      "text/plain": [
       "           continent  location       date  total_cases  total_deaths  \\\n",
       "2661   North America     Aruba 2020-09-10       4133.0          31.0   \n",
       "39205           Asia      Oman 2020-06-09      86380.0         705.0   \n",
       "9406          Africa  Cameroon 2020-04-10      20924.0         420.0   \n",
       "\n",
       "       gdp_per_capita  human_development_index  month  \\\n",
       "2661        35973.781                    0.000      9   \n",
       "39205       37960.709                    0.821      6   \n",
       "9406         3364.926                    0.556      4   \n",
       "\n",
       "       total_deaths_to_total_cases  \n",
       "2661                      0.007501  \n",
       "39205                     0.008162  \n",
       "9406                      0.020073  "
      ]
     },
     "execution_count": 34,
     "metadata": {},
     "output_type": "execute_result"
    }
   ],
   "source": [
    "df.sample(n=3)"
   ]
  },
  {
   "cell_type": "markdown",
   "id": "28413239",
   "metadata": {},
   "source": [
    "### Data Visualization"
   ]
  },
  {
   "cell_type": "markdown",
   "id": "2f1613af",
   "metadata": {},
   "source": [
    "#### Perform Univariate analysis on 'gdp_per_capita' column by plotting histogram using seaborn dist plot"
   ]
  },
  {
   "cell_type": "code",
   "execution_count": 35,
   "id": "92c3c252",
   "metadata": {},
   "outputs": [
    {
     "name": "stderr",
     "output_type": "stream",
     "text": [
      "C:\\Users\\manis\\anaconda3\\lib\\site-packages\\seaborn\\distributions.py:2557: FutureWarning: `distplot` is a deprecated function and will be removed in a future version. Please adapt your code to use either `displot` (a figure-level function with similar flexibility) or `histplot` (an axes-level function for histograms).\n",
      "  warnings.warn(msg, FutureWarning)\n"
     ]
    },
    {
     "data": {
      "text/plain": [
       "<AxesSubplot:xlabel='gdp_per_capita', ylabel='Density'>"
      ]
     },
     "execution_count": 35,
     "metadata": {},
     "output_type": "execute_result"
    },
    {
     "data": {
      "image/png": "[encoded data removed]",
      "text/plain": [
       "<Figure size 432x288 with 1 Axes>"
      ]
     },
     "metadata": {
      "needs_background": "light"
     },
     "output_type": "display_data"
    }
   ],
   "source": [
    "sns.distplot(a=df['gdp_per_capita'],color='violet')"
   ]
  },
  {
   "cell_type": "markdown",
   "id": "785f8a1f",
   "metadata": {},
   "source": [
    "#### Plot a scatter plot of 'total_cases' & 'gdp_per_capita'"
   ]
  },
  {
   "cell_type": "code",
   "execution_count": 36,
   "id": "f9847a3f",
   "metadata": {},
   "outputs": [
    {
     "data": {
      "text/plain": [
       "<AxesSubplot:xlabel='total_cases', ylabel='gdp_per_capita'>"
      ]
     },
     "execution_count": 36,
     "metadata": {},
     "output_type": "execute_result"
    },
    {
     "data": {
      "image/png": "[encoded data removed]",
      "text/plain": [
       "<Figure size 432x288 with 1 Axes>"
      ]
     },
     "metadata": {
      "needs_background": "light"
     },
     "output_type": "display_data"
    }
   ],
   "source": [
    "sns.scatterplot(x=df['total_cases'],y=df['gdp_per_capita'],hue=df['total_deaths'])"
   ]
  },
  {
   "cell_type": "markdown",
   "id": "b9cb3f7b",
   "metadata": {},
   "source": [
    "#### Plot Pairplot on df dataset"
   ]
  },
  {
   "cell_type": "code",
   "execution_count": 37,
   "id": "153639c6",
   "metadata": {},
   "outputs": [
    {
     "data": {
      "text/plain": [
       "<seaborn.axisgrid.PairGrid at 0x24b37ad0f40>"
      ]
     },
     "execution_count": 37,
     "metadata": {},
     "output_type": "execute_result"
    },
    {
     "data": {
      "image/png": "[encoded data removed]",
      "text/plain": [
       "<Figure size 1080x1080 with 42 Axes>"
      ]
     },
     "metadata": {
      "needs_background": "light"
     },
     "output_type": "display_data"
    }
   ],
   "source": [
    "sns.pairplot(df)"
   ]
  },
  {
   "cell_type": "markdown",
   "id": "8c56639f",
   "metadata": {},
   "source": [
    "#### Plot a bar plot of 'continent' column with 'total_cases' "
   ]
  },
  {
   "cell_type": "code",
   "execution_count": 38,
   "id": "a0633989",
   "metadata": {},
   "outputs": [],
   "source": [
    "sns.catplot(x='continent', y='total_cases',data=df,hue='total_deaths',kind='bar',height = 1)"
   ]
  },
  {
   "cell_type": "markdown",
   "id": "84b38bae",
   "metadata": {},
   "source": [
    "### Save the df_groupby dataframe in your local drive using pandas.to_csv function"
   ]
  },
  {
   "cell_type": "code",
   "execution_count": 39,
   "id": "6d8563ca",
   "metadata": {},
   "outputs": [],
   "source": [
    "df_groupby.to_csv('groupby')"
   ]
  }
 ],
 "metadata": {
  "kernelspec": {
   "display_name": "Python 3",
   "language": "python",
   "name": "python3"
  },
  "language_info": {
   "codemirror_mode": {
    "name": "ipython",
    "version": 3
   },
   "file_extension": ".py",
   "mimetype": "text/x-python",
   "name": "python",
   "nbconvert_exporter": "python",
   "pygments_lexer": "ipython3",
   "version": "3.8.8"
  }
 },
 "nbformat": 4,
 "nbformat_minor": 5
}
